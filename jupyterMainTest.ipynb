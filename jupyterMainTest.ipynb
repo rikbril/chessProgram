{
 "cells": [
  {
   "cell_type": "code",
   "execution_count": 1,
   "metadata": {},
   "outputs": [],
   "source": [
    "## working file for simulation Main File\n",
    "import moves\n",
    "import pieces\n",
    "\n",
    "import pandas as pd\n",
    "df = pd.DataFrame(index=range(8), columns=range(8))\n",
    "df_whites = pd.DataFrame(index=range(8), columns=range(8))\n",
    "df_blacks = pd.DataFrame(index=range(8), columns=range(8))\n",
    "df_whites_movement = pd.DataFrame(index=range(8), columns=range(8))\n",
    "df_blacks_movement = pd.DataFrame(index=range(8), columns=range(8))\n",
    "df_pinned_by_whites = pd.DataFrame(index=range(8), columns=range(8))\n",
    "df_pinned_by_blacks = pd.DataFrame(index=range(8), columns=range(8))\n",
    "\n",
    "for row in range(0, 8):\n",
    "    for column in range(0, 8):\n",
    "        df.iloc[row, column] = 0\n",
    "        df_whites.iloc[row, column] = 0\n",
    "        df_whites_movement.iloc[row, column] = 0\n",
    "        df_pinned_by_whites.iloc[row, column] = 0\n",
    "        df_blacks.iloc[row, column] = 0\n",
    "        df_blacks_movement.iloc[row, column] = 0\n",
    "        df_pinned_by_blacks.iloc[row, column] = 0\n",
    "        \n",
    "king = King"
   ]
  }
 ],
 "metadata": {
  "kernelspec": {
   "display_name": "Python 3.10.4 64-bit",
   "language": "python",
   "name": "python3"
  },
  "language_info": {
   "codemirror_mode": {
    "name": "ipython",
    "version": 3
   },
   "file_extension": ".py",
   "mimetype": "text/x-python",
   "name": "python",
   "nbconvert_exporter": "python",
   "pygments_lexer": "ipython3",
   "version": "3.10.4"
  },
  "orig_nbformat": 4,
  "vscode": {
   "interpreter": {
    "hash": "916dbcbb3f70747c44a77c7bcd40155683ae19c65e1c03b4aa3499c5328201f1"
   }
  }
 },
 "nbformat": 4,
 "nbformat_minor": 2
}
