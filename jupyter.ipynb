{
 "cells": [
  {
   "cell_type": "code",
   "execution_count": 1,
   "metadata": {},
   "outputs": [],
   "source": [
    "import pandas as pd\n",
    "df = pd.DataFrame(index=range(8), columns=range(8))\n",
    "df_whites = pd.DataFrame(index=range(8), columns=range(8))\n",
    "for row in range(0, len(df.index)):\n",
    "    for column in df.columns:\n",
    "        df.iloc[row, column] = 0\n",
    "        df_whites = 0\n",
    "\n",
    "class Piece():\n",
    "    occupied_locations = {}\n",
    "    piece_types = {\"pawn\": 1, \"rook\": 1, \"knight\": 1,\n",
    "                   \"bischop\": 1, \"queen\": 1, \"king\": 1}\n",
    "\n",
    "    def __init__(self, name, location, type, is_white):\n",
    "        self.name = name\n",
    "        self.location = location\n",
    "        self.type = type\n",
    "        self.is_white = is_white\n",
    "        self.has_moved = False\n",
    "        Piece.occupied_locations[name] = location\n",
    "\n",
    "    def hasMoved(self):\n",
    "        return self.has_moved\n",
    "\n",
    "    def moved(self):\n",
    "        self.has_moved = True\n",
    "\n",
    "    def isWhite(self):\n",
    "        return self.is_white\n",
    "\n",
    "def location_empty(location):\n",
    "    if df.iloc[location] == 0:\n",
    "        return [True, \"True\"]\n",
    "    elif df_whites[location] == 1:\n",
    "        return [False, True]\n",
    "    else:\n",
    "        return [False, False]\n",
    "\n",
    "class Pawn(Piece):\n",
    "    possible_moves = []\n",
    "\n",
    "\n",
    "class Rook(Piece):\n",
    "    possible_moves = []\n",
    "\n",
    "\n",
    "class Knight(Piece):\n",
    "    possible_moves = []\n",
    "\n",
    "\n",
    "class Bischop(Piece):\n",
    "    possible_moves = []\n",
    "\n",
    "\n",
    "class Queen(Piece):\n",
    "    possible_moves = []\n",
    "\n",
    "\n",
    "class King(Piece):\n",
    "    possible_moves = []\n"
   ]
  }
 ],
 "metadata": {
  "kernelspec": {
   "display_name": "Python 3.10.4 64-bit",
   "language": "python",
   "name": "python3"
  },
  "language_info": {
   "codemirror_mode": {
    "name": "ipython",
    "version": 3
   },
   "file_extension": ".py",
   "mimetype": "text/x-python",
   "name": "python",
   "nbconvert_exporter": "python",
   "pygments_lexer": "ipython3",
   "version": "3.10.4"
  },
  "orig_nbformat": 4,
  "vscode": {
   "interpreter": {
    "hash": "916dbcbb3f70747c44a77c7bcd40155683ae19c65e1c03b4aa3499c5328201f1"
   }
  }
 },
 "nbformat": 4,
 "nbformat_minor": 2
}
